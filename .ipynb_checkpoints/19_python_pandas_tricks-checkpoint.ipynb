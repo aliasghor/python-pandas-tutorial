{
 "cells": [
  {
   "cell_type": "markdown",
   "id": "03a33c07-2c10-47ef-b877-c3a70c018420",
   "metadata": {},
   "source": [
    "# 19. Formatting tampilan `DataFrame`"
   ]
  },
  {
   "cell_type": "code",
   "execution_count": 1,
   "id": "d93677a3-98ad-4450-aeac-4e54d8b2c42a",
   "metadata": {},
   "outputs": [],
   "source": [
    "# Import all of the necessary packages\n",
    "import pandas as pd\n",
    "import numpy as np"
   ]
  },
  {
   "cell_type": "markdown",
   "id": "d9f0d7dd-5956-438b-b4dd-cda29a93ca6f",
   "metadata": {},
   "source": [
    "## Persiapan `DataFrame`"
   ]
  },
  {
   "cell_type": "code",
   "execution_count": 2,
   "id": "101eff7c-61f2-4111-8947-d5850d7c7bf4",
   "metadata": {},
   "outputs": [
    {
     "data": {
      "text/html": [
       "<div>\n",
       "<style scoped>\n",
       "    .dataframe tbody tr th:only-of-type {\n",
       "        vertical-align: middle;\n",
       "    }\n",
       "\n",
       "    .dataframe tbody tr th {\n",
       "        vertical-align: top;\n",
       "    }\n",
       "\n",
       "    .dataframe thead th {\n",
       "        text-align: right;\n",
       "    }\n",
       "</style>\n",
       "<table border=\"1\" class=\"dataframe\">\n",
       "  <thead>\n",
       "    <tr style=\"text-align: right;\">\n",
       "      <th></th>\n",
       "      <th>Omset</th>\n",
       "      <th>Operasional</th>\n",
       "    </tr>\n",
       "  </thead>\n",
       "  <tbody>\n",
       "    <tr>\n",
       "      <th>0</th>\n",
       "      <td>1</td>\n",
       "      <td>15</td>\n",
       "    </tr>\n",
       "    <tr>\n",
       "      <th>1</th>\n",
       "      <td>7</td>\n",
       "      <td>10</td>\n",
       "    </tr>\n",
       "    <tr>\n",
       "      <th>2</th>\n",
       "      <td>11</td>\n",
       "      <td>6</td>\n",
       "    </tr>\n",
       "    <tr>\n",
       "      <th>3</th>\n",
       "      <td>7</td>\n",
       "      <td>11</td>\n",
       "    </tr>\n",
       "    <tr>\n",
       "      <th>4</th>\n",
       "      <td>12</td>\n",
       "      <td>16</td>\n",
       "    </tr>\n",
       "  </tbody>\n",
       "</table>\n",
       "</div>"
      ],
      "text/plain": [
       "   Omset  Operasional\n",
       "0      1           15\n",
       "1      7           10\n",
       "2     11            6\n",
       "3      7           11\n",
       "4     12           16"
      ]
     },
     "execution_count": 2,
     "metadata": {},
     "output_type": "execute_result"
    }
   ],
   "source": [
    "n_rows = 5\n",
    "n_cols = 2\n",
    "cols = [\"Omset\", \"Operasional\"]\n",
    "\n",
    "df = pd.DataFrame(np.random.randint(1, 20, size=(n_rows, n_cols)), columns=cols)\n",
    "\n",
    "df"
   ]
  },
  {
   "cell_type": "code",
   "execution_count": 3,
   "id": "af4c20f3-88ae-4f49-ae90-6fb47c4efad7",
   "metadata": {},
   "outputs": [
    {
     "data": {
      "text/html": [
       "<div>\n",
       "<style scoped>\n",
       "    .dataframe tbody tr th:only-of-type {\n",
       "        vertical-align: middle;\n",
       "    }\n",
       "\n",
       "    .dataframe tbody tr th {\n",
       "        vertical-align: top;\n",
       "    }\n",
       "\n",
       "    .dataframe thead th {\n",
       "        text-align: right;\n",
       "    }\n",
       "</style>\n",
       "<table border=\"1\" class=\"dataframe\">\n",
       "  <thead>\n",
       "    <tr style=\"text-align: right;\">\n",
       "      <th></th>\n",
       "      <th>Omset</th>\n",
       "      <th>Operasional</th>\n",
       "      <th>Tanggal</th>\n",
       "    </tr>\n",
       "  </thead>\n",
       "  <tbody>\n",
       "    <tr>\n",
       "      <th>0</th>\n",
       "      <td>100000</td>\n",
       "      <td>150000</td>\n",
       "      <td>2000-01-01</td>\n",
       "    </tr>\n",
       "    <tr>\n",
       "      <th>1</th>\n",
       "      <td>700000</td>\n",
       "      <td>100000</td>\n",
       "      <td>2000-01-02</td>\n",
       "    </tr>\n",
       "    <tr>\n",
       "      <th>2</th>\n",
       "      <td>1100000</td>\n",
       "      <td>60000</td>\n",
       "      <td>2000-01-03</td>\n",
       "    </tr>\n",
       "    <tr>\n",
       "      <th>3</th>\n",
       "      <td>700000</td>\n",
       "      <td>110000</td>\n",
       "      <td>2000-01-04</td>\n",
       "    </tr>\n",
       "    <tr>\n",
       "      <th>4</th>\n",
       "      <td>1200000</td>\n",
       "      <td>160000</td>\n",
       "      <td>2000-01-05</td>\n",
       "    </tr>\n",
       "  </tbody>\n",
       "</table>\n",
       "</div>"
      ],
      "text/plain": [
       "     Omset  Operasional    Tanggal\n",
       "0   100000       150000 2000-01-01\n",
       "1   700000       100000 2000-01-02\n",
       "2  1100000        60000 2000-01-03\n",
       "3   700000       110000 2000-01-04\n",
       "4  1200000       160000 2000-01-05"
      ]
     },
     "execution_count": 3,
     "metadata": {},
     "output_type": "execute_result"
    }
   ],
   "source": [
    "df[\"Omset\"] = df[\"Omset\"] * 100_000\n",
    "df[\"Operasional\"] = df[\"Operasional\"] * 10_000\n",
    "df[\"Tanggal\"] = pd.date_range(\"1/1/2000\", periods=n_rows)\n",
    "\n",
    "df"
   ]
  },
  {
   "cell_type": "code",
   "execution_count": 4,
   "id": "e38cd908-8280-4509-ab94-dbf7f1c91310",
   "metadata": {},
   "outputs": [
    {
     "data": {
      "text/html": [
       "<style type=\"text/css\">\n",
       "</style>\n",
       "<table id=\"T_39029\">\n",
       "  <thead>\n",
       "    <tr>\n",
       "      <th class=\"blank level0\" >&nbsp;</th>\n",
       "      <th id=\"T_39029_level0_col0\" class=\"col_heading level0 col0\" >Omset</th>\n",
       "      <th id=\"T_39029_level0_col1\" class=\"col_heading level0 col1\" >Operasional</th>\n",
       "      <th id=\"T_39029_level0_col2\" class=\"col_heading level0 col2\" >Tanggal</th>\n",
       "    </tr>\n",
       "  </thead>\n",
       "  <tbody>\n",
       "    <tr>\n",
       "      <th id=\"T_39029_level0_row0\" class=\"row_heading level0 row0\" >0</th>\n",
       "      <td id=\"T_39029_row0_col0\" class=\"data row0 col0\" >Rp. 100,000</td>\n",
       "      <td id=\"T_39029_row0_col1\" class=\"data row0 col1\" >Rp. 150,000</td>\n",
       "      <td id=\"T_39029_row0_col2\" class=\"data row0 col2\" >01/01/00</td>\n",
       "    </tr>\n",
       "    <tr>\n",
       "      <th id=\"T_39029_level0_row1\" class=\"row_heading level0 row1\" >1</th>\n",
       "      <td id=\"T_39029_row1_col0\" class=\"data row1 col0\" >Rp. 700,000</td>\n",
       "      <td id=\"T_39029_row1_col1\" class=\"data row1 col1\" >Rp. 100,000</td>\n",
       "      <td id=\"T_39029_row1_col2\" class=\"data row1 col2\" >02/01/00</td>\n",
       "    </tr>\n",
       "    <tr>\n",
       "      <th id=\"T_39029_level0_row2\" class=\"row_heading level0 row2\" >2</th>\n",
       "      <td id=\"T_39029_row2_col0\" class=\"data row2 col0\" >Rp. 1,100,000</td>\n",
       "      <td id=\"T_39029_row2_col1\" class=\"data row2 col1\" >Rp. 60,000</td>\n",
       "      <td id=\"T_39029_row2_col2\" class=\"data row2 col2\" >03/01/00</td>\n",
       "    </tr>\n",
       "    <tr>\n",
       "      <th id=\"T_39029_level0_row3\" class=\"row_heading level0 row3\" >3</th>\n",
       "      <td id=\"T_39029_row3_col0\" class=\"data row3 col0\" >Rp. 700,000</td>\n",
       "      <td id=\"T_39029_row3_col1\" class=\"data row3 col1\" >Rp. 110,000</td>\n",
       "      <td id=\"T_39029_row3_col2\" class=\"data row3 col2\" >04/01/00</td>\n",
       "    </tr>\n",
       "    <tr>\n",
       "      <th id=\"T_39029_level0_row4\" class=\"row_heading level0 row4\" >4</th>\n",
       "      <td id=\"T_39029_row4_col0\" class=\"data row4 col0\" >Rp. 1,200,000</td>\n",
       "      <td id=\"T_39029_row4_col1\" class=\"data row4 col1\" >Rp. 160,000</td>\n",
       "      <td id=\"T_39029_row4_col2\" class=\"data row4 col2\" >05/01/00</td>\n",
       "    </tr>\n",
       "  </tbody>\n",
       "</table>\n"
      ],
      "text/plain": [
       "<pandas.io.formats.style.Styler at 0x1d51c2b2090>"
      ]
     },
     "execution_count": 4,
     "metadata": {},
     "output_type": "execute_result"
    }
   ],
   "source": [
    "formatku = {\n",
    "    \"Omset\": \"Rp. {:,}\",\n",
    "    \"Operasional\": \"Rp. {:,}\",\n",
    "    \"Tanggal\": \"{:%d/%m/%y}\"\n",
    "}\n",
    "\n",
    "laporan = df.style.format(formatku)\n",
    "laporan"
   ]
  },
  {
   "cell_type": "code",
   "execution_count": 5,
   "id": "2df08d42-341d-4147-a1b1-4e682595cb3a",
   "metadata": {},
   "outputs": [
    {
     "data": {
      "text/plain": [
       "pandas.io.formats.style.Styler"
      ]
     },
     "execution_count": 5,
     "metadata": {},
     "output_type": "execute_result"
    }
   ],
   "source": [
    "type(laporan)"
   ]
  },
  {
   "cell_type": "code",
   "execution_count": 6,
   "id": "b45776f8-ca87-4a85-85e4-ac719c1f6dbd",
   "metadata": {},
   "outputs": [
    {
     "data": {
      "text/html": [
       "<style type=\"text/css\">\n",
       "</style>\n",
       "<table id=\"T_39029\">\n",
       "  <thead>\n",
       "    <tr>\n",
       "      <th id=\"T_39029_level0_col0\" class=\"col_heading level0 col0\" >Omset</th>\n",
       "      <th id=\"T_39029_level0_col1\" class=\"col_heading level0 col1\" >Operasional</th>\n",
       "      <th id=\"T_39029_level0_col2\" class=\"col_heading level0 col2\" >Tanggal</th>\n",
       "    </tr>\n",
       "  </thead>\n",
       "  <tbody>\n",
       "    <tr>\n",
       "      <td id=\"T_39029_row0_col0\" class=\"data row0 col0\" >Rp. 100,000</td>\n",
       "      <td id=\"T_39029_row0_col1\" class=\"data row0 col1\" >Rp. 150,000</td>\n",
       "      <td id=\"T_39029_row0_col2\" class=\"data row0 col2\" >01/01/00</td>\n",
       "    </tr>\n",
       "    <tr>\n",
       "      <td id=\"T_39029_row1_col0\" class=\"data row1 col0\" >Rp. 700,000</td>\n",
       "      <td id=\"T_39029_row1_col1\" class=\"data row1 col1\" >Rp. 100,000</td>\n",
       "      <td id=\"T_39029_row1_col2\" class=\"data row1 col2\" >02/01/00</td>\n",
       "    </tr>\n",
       "    <tr>\n",
       "      <td id=\"T_39029_row2_col0\" class=\"data row2 col0\" >Rp. 1,100,000</td>\n",
       "      <td id=\"T_39029_row2_col1\" class=\"data row2 col1\" >Rp. 60,000</td>\n",
       "      <td id=\"T_39029_row2_col2\" class=\"data row2 col2\" >03/01/00</td>\n",
       "    </tr>\n",
       "    <tr>\n",
       "      <td id=\"T_39029_row3_col0\" class=\"data row3 col0\" >Rp. 700,000</td>\n",
       "      <td id=\"T_39029_row3_col1\" class=\"data row3 col1\" >Rp. 110,000</td>\n",
       "      <td id=\"T_39029_row3_col2\" class=\"data row3 col2\" >04/01/00</td>\n",
       "    </tr>\n",
       "    <tr>\n",
       "      <td id=\"T_39029_row4_col0\" class=\"data row4 col0\" >Rp. 1,200,000</td>\n",
       "      <td id=\"T_39029_row4_col1\" class=\"data row4 col1\" >Rp. 160,000</td>\n",
       "      <td id=\"T_39029_row4_col2\" class=\"data row4 col2\" >05/01/00</td>\n",
       "    </tr>\n",
       "  </tbody>\n",
       "</table>\n"
      ],
      "text/plain": [
       "<pandas.io.formats.style.Styler at 0x1d51c2b2090>"
      ]
     },
     "execution_count": 6,
     "metadata": {},
     "output_type": "execute_result"
    }
   ],
   "source": [
    "laporan.hide()"
   ]
  },
  {
   "cell_type": "code",
   "execution_count": 7,
   "id": "7e6ac299-c07b-4f14-b7a8-0834a0f5615b",
   "metadata": {},
   "outputs": [
    {
     "data": {
      "text/html": [
       "<style type=\"text/css\">\n",
       "</style>\n",
       "<table id=\"T_39029\">\n",
       "  <caption>Revenue and Operational report according to its Date</caption>\n",
       "  <thead>\n",
       "    <tr>\n",
       "      <th id=\"T_39029_level0_col0\" class=\"col_heading level0 col0\" >Omset</th>\n",
       "      <th id=\"T_39029_level0_col1\" class=\"col_heading level0 col1\" >Operasional</th>\n",
       "      <th id=\"T_39029_level0_col2\" class=\"col_heading level0 col2\" >Tanggal</th>\n",
       "    </tr>\n",
       "  </thead>\n",
       "  <tbody>\n",
       "    <tr>\n",
       "      <td id=\"T_39029_row0_col0\" class=\"data row0 col0\" >Rp. 100,000</td>\n",
       "      <td id=\"T_39029_row0_col1\" class=\"data row0 col1\" >Rp. 150,000</td>\n",
       "      <td id=\"T_39029_row0_col2\" class=\"data row0 col2\" >01/01/00</td>\n",
       "    </tr>\n",
       "    <tr>\n",
       "      <td id=\"T_39029_row1_col0\" class=\"data row1 col0\" >Rp. 700,000</td>\n",
       "      <td id=\"T_39029_row1_col1\" class=\"data row1 col1\" >Rp. 100,000</td>\n",
       "      <td id=\"T_39029_row1_col2\" class=\"data row1 col2\" >02/01/00</td>\n",
       "    </tr>\n",
       "    <tr>\n",
       "      <td id=\"T_39029_row2_col0\" class=\"data row2 col0\" >Rp. 1,100,000</td>\n",
       "      <td id=\"T_39029_row2_col1\" class=\"data row2 col1\" >Rp. 60,000</td>\n",
       "      <td id=\"T_39029_row2_col2\" class=\"data row2 col2\" >03/01/00</td>\n",
       "    </tr>\n",
       "    <tr>\n",
       "      <td id=\"T_39029_row3_col0\" class=\"data row3 col0\" >Rp. 700,000</td>\n",
       "      <td id=\"T_39029_row3_col1\" class=\"data row3 col1\" >Rp. 110,000</td>\n",
       "      <td id=\"T_39029_row3_col2\" class=\"data row3 col2\" >04/01/00</td>\n",
       "    </tr>\n",
       "    <tr>\n",
       "      <td id=\"T_39029_row4_col0\" class=\"data row4 col0\" >Rp. 1,200,000</td>\n",
       "      <td id=\"T_39029_row4_col1\" class=\"data row4 col1\" >Rp. 160,000</td>\n",
       "      <td id=\"T_39029_row4_col2\" class=\"data row4 col2\" >05/01/00</td>\n",
       "    </tr>\n",
       "  </tbody>\n",
       "</table>\n"
      ],
      "text/plain": [
       "<pandas.io.formats.style.Styler at 0x1d51c2b2090>"
      ]
     },
     "execution_count": 7,
     "metadata": {},
     "output_type": "execute_result"
    }
   ],
   "source": [
    "laporan.set_caption(\"Revenue and Operational report according to its Date\")"
   ]
  },
  {
   "cell_type": "code",
   "execution_count": 8,
   "id": "9b5d0031-86da-44ac-aeab-641409efa7a2",
   "metadata": {},
   "outputs": [
    {
     "data": {
      "text/html": [
       "<style type=\"text/css\">\n",
       "#T_39029_row0_col0 {\n",
       "  background-color: lightgreen;\n",
       "}\n",
       "#T_39029_row2_col1 {\n",
       "  background-color: grey;\n",
       "}\n",
       "#T_39029_row4_col0 {\n",
       "  background-color: pink;\n",
       "}\n",
       "#T_39029_row4_col1 {\n",
       "  background-color: lightblue;\n",
       "}\n",
       "</style>\n",
       "<table id=\"T_39029\">\n",
       "  <caption>Revenue and Operational report according to its Date</caption>\n",
       "  <thead>\n",
       "    <tr>\n",
       "      <th id=\"T_39029_level0_col0\" class=\"col_heading level0 col0\" >Omset</th>\n",
       "      <th id=\"T_39029_level0_col1\" class=\"col_heading level0 col1\" >Operasional</th>\n",
       "      <th id=\"T_39029_level0_col2\" class=\"col_heading level0 col2\" >Tanggal</th>\n",
       "    </tr>\n",
       "  </thead>\n",
       "  <tbody>\n",
       "    <tr>\n",
       "      <td id=\"T_39029_row0_col0\" class=\"data row0 col0\" >Rp. 100,000</td>\n",
       "      <td id=\"T_39029_row0_col1\" class=\"data row0 col1\" >Rp. 150,000</td>\n",
       "      <td id=\"T_39029_row0_col2\" class=\"data row0 col2\" >01/01/00</td>\n",
       "    </tr>\n",
       "    <tr>\n",
       "      <td id=\"T_39029_row1_col0\" class=\"data row1 col0\" >Rp. 700,000</td>\n",
       "      <td id=\"T_39029_row1_col1\" class=\"data row1 col1\" >Rp. 100,000</td>\n",
       "      <td id=\"T_39029_row1_col2\" class=\"data row1 col2\" >02/01/00</td>\n",
       "    </tr>\n",
       "    <tr>\n",
       "      <td id=\"T_39029_row2_col0\" class=\"data row2 col0\" >Rp. 1,100,000</td>\n",
       "      <td id=\"T_39029_row2_col1\" class=\"data row2 col1\" >Rp. 60,000</td>\n",
       "      <td id=\"T_39029_row2_col2\" class=\"data row2 col2\" >03/01/00</td>\n",
       "    </tr>\n",
       "    <tr>\n",
       "      <td id=\"T_39029_row3_col0\" class=\"data row3 col0\" >Rp. 700,000</td>\n",
       "      <td id=\"T_39029_row3_col1\" class=\"data row3 col1\" >Rp. 110,000</td>\n",
       "      <td id=\"T_39029_row3_col2\" class=\"data row3 col2\" >04/01/00</td>\n",
       "    </tr>\n",
       "    <tr>\n",
       "      <td id=\"T_39029_row4_col0\" class=\"data row4 col0\" >Rp. 1,200,000</td>\n",
       "      <td id=\"T_39029_row4_col1\" class=\"data row4 col1\" >Rp. 160,000</td>\n",
       "      <td id=\"T_39029_row4_col2\" class=\"data row4 col2\" >05/01/00</td>\n",
       "    </tr>\n",
       "  </tbody>\n",
       "</table>\n"
      ],
      "text/plain": [
       "<pandas.io.formats.style.Styler at 0x1d51c2b2090>"
      ]
     },
     "execution_count": 8,
     "metadata": {},
     "output_type": "execute_result"
    }
   ],
   "source": [
    "laporan.highlight_min(\"Omset\", color=\"lightgreen\")\n",
    "laporan.highlight_max(\"Omset\", color=\"pink\")\n",
    "\n",
    "laporan.highlight_min(\"Operasional\", color=\"grey\")\n",
    "laporan.highlight_max(\"Operasional\", color=\"lightblue\")"
   ]
  }
 ],
 "metadata": {
  "kernelspec": {
   "display_name": "Python 3 (ipykernel)",
   "language": "python",
   "name": "python3"
  },
  "language_info": {
   "codemirror_mode": {
    "name": "ipython",
    "version": 3
   },
   "file_extension": ".py",
   "mimetype": "text/x-python",
   "name": "python",
   "nbconvert_exporter": "python",
   "pygments_lexer": "ipython3",
   "version": "3.12.7"
  }
 },
 "nbformat": 4,
 "nbformat_minor": 5
}
