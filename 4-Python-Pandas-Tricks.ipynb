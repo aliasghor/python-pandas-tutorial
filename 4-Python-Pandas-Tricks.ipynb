{
 "cells": [
  {
   "cell_type": "markdown",
   "id": "776a346c-6498-41a5-8a61-8fc0bb6aaf13",
   "metadata": {},
   "source": [
    "# 4. Pemilihan kolom (columns selection) pada `DataFrame` berdasarkan tipe data"
   ]
  },
  {
   "cell_type": "code",
   "execution_count": 5,
   "id": "55c01408-7684-4732-81c8-9c3fa671930e",
   "metadata": {},
   "outputs": [],
   "source": [
    "# Import all of the necessary packages\n",
    "import pandas as pd\n",
    "import numpy as np"
   ]
  },
  {
   "cell_type": "markdown",
   "id": "70e1ceb9-1529-44ca-9f3a-0ea2dd8cb0a9",
   "metadata": {},
   "source": [
    "## Persiapan `DataFrame`"
   ]
  },
  {
   "cell_type": "code",
   "execution_count": 7,
   "id": "21a1831c-6207-419f-8cb6-8f5aafa3c999",
   "metadata": {},
   "outputs": [
    {
     "data": {
      "text/html": [
       "<div>\n",
       "<style scoped>\n",
       "    .dataframe tbody tr th:only-of-type {\n",
       "        vertical-align: middle;\n",
       "    }\n",
       "\n",
       "    .dataframe tbody tr th {\n",
       "        vertical-align: top;\n",
       "    }\n",
       "\n",
       "    .dataframe thead th {\n",
       "        text-align: right;\n",
       "    }\n",
       "</style>\n",
       "<table border=\"1\" class=\"dataframe\">\n",
       "  <thead>\n",
       "    <tr style=\"text-align: right;\">\n",
       "      <th></th>\n",
       "      <th>bil_pecahan</th>\n",
       "      <th>bil_bulat</th>\n",
       "      <th>teks</th>\n",
       "      <th>waktu</th>\n",
       "    </tr>\n",
       "  </thead>\n",
       "  <tbody>\n",
       "    <tr>\n",
       "      <th>0</th>\n",
       "      <td>15</td>\n",
       "      <td>17.0</td>\n",
       "      <td>A</td>\n",
       "      <td>2020-01-01 00:00:00</td>\n",
       "    </tr>\n",
       "    <tr>\n",
       "      <th>1</th>\n",
       "      <td>11</td>\n",
       "      <td>18.0</td>\n",
       "      <td>B</td>\n",
       "      <td>2020-01-01 01:00:00</td>\n",
       "    </tr>\n",
       "    <tr>\n",
       "      <th>2</th>\n",
       "      <td>8</td>\n",
       "      <td>12.0</td>\n",
       "      <td>C</td>\n",
       "      <td>2020-01-01 02:00:00</td>\n",
       "    </tr>\n",
       "    <tr>\n",
       "      <th>3</th>\n",
       "      <td>16</td>\n",
       "      <td>18.0</td>\n",
       "      <td>D</td>\n",
       "      <td>2020-01-01 03:00:00</td>\n",
       "    </tr>\n",
       "    <tr>\n",
       "      <th>4</th>\n",
       "      <td>19</td>\n",
       "      <td>9.0</td>\n",
       "      <td>E</td>\n",
       "      <td>2020-01-01 04:00:00</td>\n",
       "    </tr>\n",
       "  </tbody>\n",
       "</table>\n",
       "</div>"
      ],
      "text/plain": [
       "   bil_pecahan  bil_bulat teks               waktu\n",
       "0           15       17.0    A 2020-01-01 00:00:00\n",
       "1           11       18.0    B 2020-01-01 01:00:00\n",
       "2            8       12.0    C 2020-01-01 02:00:00\n",
       "3           16       18.0    D 2020-01-01 03:00:00\n",
       "4           19        9.0    E 2020-01-01 04:00:00"
      ]
     },
     "execution_count": 7,
     "metadata": {},
     "output_type": "execute_result"
    }
   ],
   "source": [
    "n_rows = 5\n",
    "n_cols = 2\n",
    "cols = [\"bil_pecahan\", \"bil_bulat\"]\n",
    "\n",
    "df = pd.DataFrame(np.random.randint(1, 20, size=(n_rows, n_cols)), columns=cols)\n",
    "\n",
    "df = df.astype({\"bil_bulat\": \"float32\"})\n",
    "df[\"teks\"] = list(\"ABCDE\")\n",
    "dt = pd.date_range(\"2020-01-01\", periods=n_rows, freq=\"h\")\n",
    "df[\"waktu\"] = pd.to_datetime(dt, format=\"%d%b%Y:%H:%M:%S.%f\")\n",
    "df"
   ]
  },
  {
   "cell_type": "code",
   "execution_count": 8,
   "id": "eb9c4300-ce66-4e5d-b9e4-69f8e1622e22",
   "metadata": {},
   "outputs": [
    {
     "data": {
      "text/plain": [
       "bil_pecahan             int32\n",
       "bil_bulat             float32\n",
       "teks                   object\n",
       "waktu          datetime64[ns]\n",
       "dtype: object"
      ]
     },
     "execution_count": 8,
     "metadata": {},
     "output_type": "execute_result"
    }
   ],
   "source": [
    "df.dtypes"
   ]
  },
  {
   "cell_type": "markdown",
   "id": "d4fa8dae-0e24-421f-8abb-e31087056910",
   "metadata": {},
   "source": [
    "## Memilih kolom bertipe data numerik"
   ]
  },
  {
   "cell_type": "code",
   "execution_count": 10,
   "id": "22d5b3d5-d4bf-46a1-b302-342bea6bf598",
   "metadata": {},
   "outputs": [
    {
     "data": {
      "text/plain": [
       "\u001b[1;31mSignature:\u001b[0m \u001b[0mdf\u001b[0m\u001b[1;33m.\u001b[0m\u001b[0mselect_dtypes\u001b[0m\u001b[1;33m(\u001b[0m\u001b[0minclude\u001b[0m\u001b[1;33m=\u001b[0m\u001b[1;32mNone\u001b[0m\u001b[1;33m,\u001b[0m \u001b[0mexclude\u001b[0m\u001b[1;33m=\u001b[0m\u001b[1;32mNone\u001b[0m\u001b[1;33m)\u001b[0m \u001b[1;33m->\u001b[0m \u001b[1;34m'Self'\u001b[0m\u001b[1;33m\u001b[0m\u001b[1;33m\u001b[0m\u001b[0m\n",
       "\u001b[1;31mDocstring:\u001b[0m\n",
       "Return a subset of the DataFrame's columns based on the column dtypes.\n",
       "\n",
       "Parameters\n",
       "----------\n",
       "include, exclude : scalar or list-like\n",
       "    A selection of dtypes or strings to be included/excluded. At least\n",
       "    one of these parameters must be supplied.\n",
       "\n",
       "Returns\n",
       "-------\n",
       "DataFrame\n",
       "    The subset of the frame including the dtypes in ``include`` and\n",
       "    excluding the dtypes in ``exclude``.\n",
       "\n",
       "Raises\n",
       "------\n",
       "ValueError\n",
       "    * If both of ``include`` and ``exclude`` are empty\n",
       "    * If ``include`` and ``exclude`` have overlapping elements\n",
       "    * If any kind of string dtype is passed in.\n",
       "\n",
       "See Also\n",
       "--------\n",
       "DataFrame.dtypes: Return Series with the data type of each column.\n",
       "\n",
       "Notes\n",
       "-----\n",
       "* To select all *numeric* types, use ``np.number`` or ``'number'``\n",
       "* To select strings you must use the ``object`` dtype, but note that\n",
       "  this will return *all* object dtype columns\n",
       "* See the `numpy dtype hierarchy\n",
       "  <https://numpy.org/doc/stable/reference/arrays.scalars.html>`__\n",
       "* To select datetimes, use ``np.datetime64``, ``'datetime'`` or\n",
       "  ``'datetime64'``\n",
       "* To select timedeltas, use ``np.timedelta64``, ``'timedelta'`` or\n",
       "  ``'timedelta64'``\n",
       "* To select Pandas categorical dtypes, use ``'category'``\n",
       "* To select Pandas datetimetz dtypes, use ``'datetimetz'``\n",
       "  or ``'datetime64[ns, tz]'``\n",
       "\n",
       "Examples\n",
       "--------\n",
       ">>> df = pd.DataFrame({'a': [1, 2] * 3,\n",
       "...                    'b': [True, False] * 3,\n",
       "...                    'c': [1.0, 2.0] * 3})\n",
       ">>> df\n",
       "        a      b  c\n",
       "0       1   True  1.0\n",
       "1       2  False  2.0\n",
       "2       1   True  1.0\n",
       "3       2  False  2.0\n",
       "4       1   True  1.0\n",
       "5       2  False  2.0\n",
       "\n",
       ">>> df.select_dtypes(include='bool')\n",
       "   b\n",
       "0  True\n",
       "1  False\n",
       "2  True\n",
       "3  False\n",
       "4  True\n",
       "5  False\n",
       "\n",
       ">>> df.select_dtypes(include=['float64'])\n",
       "   c\n",
       "0  1.0\n",
       "1  2.0\n",
       "2  1.0\n",
       "3  2.0\n",
       "4  1.0\n",
       "5  2.0\n",
       "\n",
       ">>> df.select_dtypes(exclude=['int64'])\n",
       "       b    c\n",
       "0   True  1.0\n",
       "1  False  2.0\n",
       "2   True  1.0\n",
       "3  False  2.0\n",
       "4   True  1.0\n",
       "5  False  2.0\n",
       "\u001b[1;31mFile:\u001b[0m      c:\\users\\alima\\anaconda3\\lib\\site-packages\\pandas\\core\\frame.py\n",
       "\u001b[1;31mType:\u001b[0m      method"
      ]
     },
     "metadata": {},
     "output_type": "display_data"
    }
   ],
   "source": [
    "df.select_dtypes?"
   ]
  },
  {
   "cell_type": "code",
   "execution_count": 11,
   "id": "24a104cd-27c6-4eec-ac6b-815f6bab3622",
   "metadata": {},
   "outputs": [
    {
     "data": {
      "text/html": [
       "<div>\n",
       "<style scoped>\n",
       "    .dataframe tbody tr th:only-of-type {\n",
       "        vertical-align: middle;\n",
       "    }\n",
       "\n",
       "    .dataframe tbody tr th {\n",
       "        vertical-align: top;\n",
       "    }\n",
       "\n",
       "    .dataframe thead th {\n",
       "        text-align: right;\n",
       "    }\n",
       "</style>\n",
       "<table border=\"1\" class=\"dataframe\">\n",
       "  <thead>\n",
       "    <tr style=\"text-align: right;\">\n",
       "      <th></th>\n",
       "      <th>bil_pecahan</th>\n",
       "      <th>bil_bulat</th>\n",
       "    </tr>\n",
       "  </thead>\n",
       "  <tbody>\n",
       "    <tr>\n",
       "      <th>0</th>\n",
       "      <td>15</td>\n",
       "      <td>17.0</td>\n",
       "    </tr>\n",
       "    <tr>\n",
       "      <th>1</th>\n",
       "      <td>11</td>\n",
       "      <td>18.0</td>\n",
       "    </tr>\n",
       "    <tr>\n",
       "      <th>2</th>\n",
       "      <td>8</td>\n",
       "      <td>12.0</td>\n",
       "    </tr>\n",
       "    <tr>\n",
       "      <th>3</th>\n",
       "      <td>16</td>\n",
       "      <td>18.0</td>\n",
       "    </tr>\n",
       "    <tr>\n",
       "      <th>4</th>\n",
       "      <td>19</td>\n",
       "      <td>9.0</td>\n",
       "    </tr>\n",
       "  </tbody>\n",
       "</table>\n",
       "</div>"
      ],
      "text/plain": [
       "   bil_pecahan  bil_bulat\n",
       "0           15       17.0\n",
       "1           11       18.0\n",
       "2            8       12.0\n",
       "3           16       18.0\n",
       "4           19        9.0"
      ]
     },
     "execution_count": 11,
     "metadata": {},
     "output_type": "execute_result"
    }
   ],
   "source": [
    "df.select_dtypes(include=\"number\")"
   ]
  },
  {
   "cell_type": "code",
   "execution_count": 12,
   "id": "b78bcecd-a80f-4191-afe1-16d6a9046a64",
   "metadata": {},
   "outputs": [
    {
     "data": {
      "text/html": [
       "<div>\n",
       "<style scoped>\n",
       "    .dataframe tbody tr th:only-of-type {\n",
       "        vertical-align: middle;\n",
       "    }\n",
       "\n",
       "    .dataframe tbody tr th {\n",
       "        vertical-align: top;\n",
       "    }\n",
       "\n",
       "    .dataframe thead th {\n",
       "        text-align: right;\n",
       "    }\n",
       "</style>\n",
       "<table border=\"1\" class=\"dataframe\">\n",
       "  <thead>\n",
       "    <tr style=\"text-align: right;\">\n",
       "      <th></th>\n",
       "      <th>bil_bulat</th>\n",
       "    </tr>\n",
       "  </thead>\n",
       "  <tbody>\n",
       "    <tr>\n",
       "      <th>0</th>\n",
       "      <td>17.0</td>\n",
       "    </tr>\n",
       "    <tr>\n",
       "      <th>1</th>\n",
       "      <td>18.0</td>\n",
       "    </tr>\n",
       "    <tr>\n",
       "      <th>2</th>\n",
       "      <td>12.0</td>\n",
       "    </tr>\n",
       "    <tr>\n",
       "      <th>3</th>\n",
       "      <td>18.0</td>\n",
       "    </tr>\n",
       "    <tr>\n",
       "      <th>4</th>\n",
       "      <td>9.0</td>\n",
       "    </tr>\n",
       "  </tbody>\n",
       "</table>\n",
       "</div>"
      ],
      "text/plain": [
       "   bil_bulat\n",
       "0       17.0\n",
       "1       18.0\n",
       "2       12.0\n",
       "3       18.0\n",
       "4        9.0"
      ]
     },
     "execution_count": 12,
     "metadata": {},
     "output_type": "execute_result"
    }
   ],
   "source": [
    "df.select_dtypes(include=\"float32\")"
   ]
  },
  {
   "cell_type": "code",
   "execution_count": 13,
   "id": "aa7e76be-6c57-4eb0-8564-c4a0873f21dc",
   "metadata": {},
   "outputs": [
    {
     "data": {
      "text/html": [
       "<div>\n",
       "<style scoped>\n",
       "    .dataframe tbody tr th:only-of-type {\n",
       "        vertical-align: middle;\n",
       "    }\n",
       "\n",
       "    .dataframe tbody tr th {\n",
       "        vertical-align: top;\n",
       "    }\n",
       "\n",
       "    .dataframe thead th {\n",
       "        text-align: right;\n",
       "    }\n",
       "</style>\n",
       "<table border=\"1\" class=\"dataframe\">\n",
       "  <thead>\n",
       "    <tr style=\"text-align: right;\">\n",
       "      <th></th>\n",
       "      <th>bil_pecahan</th>\n",
       "    </tr>\n",
       "  </thead>\n",
       "  <tbody>\n",
       "    <tr>\n",
       "      <th>0</th>\n",
       "      <td>15</td>\n",
       "    </tr>\n",
       "    <tr>\n",
       "      <th>1</th>\n",
       "      <td>11</td>\n",
       "    </tr>\n",
       "    <tr>\n",
       "      <th>2</th>\n",
       "      <td>8</td>\n",
       "    </tr>\n",
       "    <tr>\n",
       "      <th>3</th>\n",
       "      <td>16</td>\n",
       "    </tr>\n",
       "    <tr>\n",
       "      <th>4</th>\n",
       "      <td>19</td>\n",
       "    </tr>\n",
       "  </tbody>\n",
       "</table>\n",
       "</div>"
      ],
      "text/plain": [
       "   bil_pecahan\n",
       "0           15\n",
       "1           11\n",
       "2            8\n",
       "3           16\n",
       "4           19"
      ]
     },
     "execution_count": 13,
     "metadata": {},
     "output_type": "execute_result"
    }
   ],
   "source": [
    "df.select_dtypes(include=\"int32\")"
   ]
  },
  {
   "cell_type": "markdown",
   "id": "ead514c6-c669-465b-b532-369bfd76c020",
   "metadata": {},
   "source": [
    "## Memilih kolom bertipe data datetime"
   ]
  },
  {
   "cell_type": "code",
   "execution_count": 15,
   "id": "7e26bd25-37d5-4cc3-8c11-e733bf97a34c",
   "metadata": {},
   "outputs": [
    {
     "data": {
      "text/html": [
       "<div>\n",
       "<style scoped>\n",
       "    .dataframe tbody tr th:only-of-type {\n",
       "        vertical-align: middle;\n",
       "    }\n",
       "\n",
       "    .dataframe tbody tr th {\n",
       "        vertical-align: top;\n",
       "    }\n",
       "\n",
       "    .dataframe thead th {\n",
       "        text-align: right;\n",
       "    }\n",
       "</style>\n",
       "<table border=\"1\" class=\"dataframe\">\n",
       "  <thead>\n",
       "    <tr style=\"text-align: right;\">\n",
       "      <th></th>\n",
       "      <th>waktu</th>\n",
       "    </tr>\n",
       "  </thead>\n",
       "  <tbody>\n",
       "    <tr>\n",
       "      <th>0</th>\n",
       "      <td>2020-01-01 00:00:00</td>\n",
       "    </tr>\n",
       "    <tr>\n",
       "      <th>1</th>\n",
       "      <td>2020-01-01 01:00:00</td>\n",
       "    </tr>\n",
       "    <tr>\n",
       "      <th>2</th>\n",
       "      <td>2020-01-01 02:00:00</td>\n",
       "    </tr>\n",
       "    <tr>\n",
       "      <th>3</th>\n",
       "      <td>2020-01-01 03:00:00</td>\n",
       "    </tr>\n",
       "    <tr>\n",
       "      <th>4</th>\n",
       "      <td>2020-01-01 04:00:00</td>\n",
       "    </tr>\n",
       "  </tbody>\n",
       "</table>\n",
       "</div>"
      ],
      "text/plain": [
       "                waktu\n",
       "0 2020-01-01 00:00:00\n",
       "1 2020-01-01 01:00:00\n",
       "2 2020-01-01 02:00:00\n",
       "3 2020-01-01 03:00:00\n",
       "4 2020-01-01 04:00:00"
      ]
     },
     "execution_count": 15,
     "metadata": {},
     "output_type": "execute_result"
    }
   ],
   "source": [
    "df.select_dtypes(include=\"datetime\")"
   ]
  },
  {
   "cell_type": "markdown",
   "id": "e569114e-526d-41dc-b758-114b9b39f2f6",
   "metadata": {},
   "source": [
    "## Memilih kolom bertipe data object"
   ]
  },
  {
   "cell_type": "code",
   "execution_count": 17,
   "id": "9375efb5-e7ad-4327-9f8b-740409609f4a",
   "metadata": {},
   "outputs": [
    {
     "data": {
      "text/html": [
       "<div>\n",
       "<style scoped>\n",
       "    .dataframe tbody tr th:only-of-type {\n",
       "        vertical-align: middle;\n",
       "    }\n",
       "\n",
       "    .dataframe tbody tr th {\n",
       "        vertical-align: top;\n",
       "    }\n",
       "\n",
       "    .dataframe thead th {\n",
       "        text-align: right;\n",
       "    }\n",
       "</style>\n",
       "<table border=\"1\" class=\"dataframe\">\n",
       "  <thead>\n",
       "    <tr style=\"text-align: right;\">\n",
       "      <th></th>\n",
       "      <th>teks</th>\n",
       "    </tr>\n",
       "  </thead>\n",
       "  <tbody>\n",
       "    <tr>\n",
       "      <th>0</th>\n",
       "      <td>A</td>\n",
       "    </tr>\n",
       "    <tr>\n",
       "      <th>1</th>\n",
       "      <td>B</td>\n",
       "    </tr>\n",
       "    <tr>\n",
       "      <th>2</th>\n",
       "      <td>C</td>\n",
       "    </tr>\n",
       "    <tr>\n",
       "      <th>3</th>\n",
       "      <td>D</td>\n",
       "    </tr>\n",
       "    <tr>\n",
       "      <th>4</th>\n",
       "      <td>E</td>\n",
       "    </tr>\n",
       "  </tbody>\n",
       "</table>\n",
       "</div>"
      ],
      "text/plain": [
       "  teks\n",
       "0    A\n",
       "1    B\n",
       "2    C\n",
       "3    D\n",
       "4    E"
      ]
     },
     "execution_count": 17,
     "metadata": {},
     "output_type": "execute_result"
    }
   ],
   "source": [
    "df.select_dtypes(include=\"object\")"
   ]
  }
 ],
 "metadata": {
  "kernelspec": {
   "display_name": "Python [conda env:base] *",
   "language": "python",
   "name": "conda-base-py"
  },
  "language_info": {
   "codemirror_mode": {
    "name": "ipython",
    "version": 3
   },
   "file_extension": ".py",
   "mimetype": "text/x-python",
   "name": "python",
   "nbconvert_exporter": "python",
   "pygments_lexer": "ipython3",
   "version": "3.12.7"
  }
 },
 "nbformat": 4,
 "nbformat_minor": 5
}
