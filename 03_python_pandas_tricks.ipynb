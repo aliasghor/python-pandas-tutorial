{
 "cells": [
  {
   "cell_type": "markdown",
   "id": "dd087099-9d6c-4f83-8ea2-09d453ba51c6",
   "metadata": {},
   "source": [
    "# 3. Konversi tipe data String ke Numerik pada kolom `DataFrame`"
   ]
  },
  {
   "cell_type": "code",
   "execution_count": 1,
   "id": "f0e1540c-3de5-4937-b6f4-255f65830ce6",
   "metadata": {},
   "outputs": [],
   "source": [
    "# Import all of the necessary packages\n",
    "import pandas as pd"
   ]
  },
  {
   "cell_type": "markdown",
   "id": "e8f480d0-325f-4c40-927d-f8948e733a3c",
   "metadata": {},
   "source": [
    "## Persiapan `DataFrame`"
   ]
  },
  {
   "cell_type": "code",
   "execution_count": 3,
   "id": "2d1b581b-b0bc-411e-ace9-755768d4cbf3",
   "metadata": {},
   "outputs": [
    {
     "data": {
      "text/html": [
       "<div>\n",
       "<style scoped>\n",
       "    .dataframe tbody tr th:only-of-type {\n",
       "        vertical-align: middle;\n",
       "    }\n",
       "\n",
       "    .dataframe tbody tr th {\n",
       "        vertical-align: top;\n",
       "    }\n",
       "\n",
       "    .dataframe thead th {\n",
       "        text-align: right;\n",
       "    }\n",
       "</style>\n",
       "<table border=\"1\" class=\"dataframe\">\n",
       "  <thead>\n",
       "    <tr style=\"text-align: right;\">\n",
       "      <th></th>\n",
       "      <th>col1</th>\n",
       "      <th>col2</th>\n",
       "    </tr>\n",
       "  </thead>\n",
       "  <tbody>\n",
       "    <tr>\n",
       "      <th>0</th>\n",
       "      <td>1</td>\n",
       "      <td>1</td>\n",
       "    </tr>\n",
       "    <tr>\n",
       "      <th>1</th>\n",
       "      <td>2</td>\n",
       "      <td>2</td>\n",
       "    </tr>\n",
       "    <tr>\n",
       "      <th>2</th>\n",
       "      <td>3</td>\n",
       "      <td>3</td>\n",
       "    </tr>\n",
       "    <tr>\n",
       "      <th>3</th>\n",
       "      <td>teks</td>\n",
       "      <td>4</td>\n",
       "    </tr>\n",
       "  </tbody>\n",
       "</table>\n",
       "</div>"
      ],
      "text/plain": [
       "   col1 col2\n",
       "0     1    1\n",
       "1     2    2\n",
       "2     3    3\n",
       "3  teks    4"
      ]
     },
     "execution_count": 3,
     "metadata": {},
     "output_type": "execute_result"
    }
   ],
   "source": [
    "data = {\n",
    "    \"col1\": [\"1\", \"2\", \"3\", \"teks\"],\n",
    "    \"col2\": [\"1\", \"2\", \"3\", \"4\"]\n",
    "}\n",
    "\n",
    "df = pd.DataFrame(data)\n",
    "df"
   ]
  },
  {
   "cell_type": "code",
   "execution_count": 5,
   "id": "8e3169b0-7541-4dec-99f3-0ddc43471166",
   "metadata": {},
   "outputs": [
    {
     "data": {
      "text/plain": [
       "col1    object\n",
       "col2    object\n",
       "dtype: object"
      ]
     },
     "execution_count": 5,
     "metadata": {},
     "output_type": "execute_result"
    }
   ],
   "source": [
    "df.dtypes"
   ]
  },
  {
   "cell_type": "markdown",
   "id": "58d5e0bc-e0a8-454c-aa9d-2b9394e9c486",
   "metadata": {},
   "source": [
    "## Konversi tipe data dengan menggunakan fungsi `astype()`"
   ]
  },
  {
   "cell_type": "code",
   "execution_count": 7,
   "id": "f7c5d335-aabf-4bcd-a8e0-d4590af9c1a3",
   "metadata": {},
   "outputs": [
    {
     "data": {
      "text/plain": [
       "\u001b[1;31mSignature:\u001b[0m\n",
       "\u001b[0mdf\u001b[0m\u001b[1;33m.\u001b[0m\u001b[0mastype\u001b[0m\u001b[1;33m(\u001b[0m\u001b[1;33m\n",
       "\u001b[0m    \u001b[0mdtype\u001b[0m\u001b[1;33m,\u001b[0m\u001b[1;33m\n",
       "\u001b[0m    \u001b[0mcopy\u001b[0m\u001b[1;33m:\u001b[0m \u001b[1;34m'bool_t | None'\u001b[0m \u001b[1;33m=\u001b[0m \u001b[1;32mNone\u001b[0m\u001b[1;33m,\u001b[0m\u001b[1;33m\n",
       "\u001b[0m    \u001b[0merrors\u001b[0m\u001b[1;33m:\u001b[0m \u001b[1;34m'IgnoreRaise'\u001b[0m \u001b[1;33m=\u001b[0m \u001b[1;34m'raise'\u001b[0m\u001b[1;33m,\u001b[0m\u001b[1;33m\n",
       "\u001b[0m\u001b[1;33m)\u001b[0m \u001b[1;33m->\u001b[0m \u001b[1;34m'Self'\u001b[0m\u001b[1;33m\u001b[0m\u001b[1;33m\u001b[0m\u001b[0m\n",
       "\u001b[1;31mDocstring:\u001b[0m\n",
       "Cast a pandas object to a specified dtype ``dtype``.\n",
       "\n",
       "Parameters\n",
       "----------\n",
       "dtype : str, data type, Series or Mapping of column name -> data type\n",
       "    Use a str, numpy.dtype, pandas.ExtensionDtype or Python type to\n",
       "    cast entire pandas object to the same type. Alternatively, use a\n",
       "    mapping, e.g. {col: dtype, ...}, where col is a column label and dtype is\n",
       "    a numpy.dtype or Python type to cast one or more of the DataFrame's\n",
       "    columns to column-specific types.\n",
       "copy : bool, default True\n",
       "    Return a copy when ``copy=True`` (be very careful setting\n",
       "    ``copy=False`` as changes to values then may propagate to other\n",
       "    pandas objects).\n",
       "\n",
       "    .. note::\n",
       "        The `copy` keyword will change behavior in pandas 3.0.\n",
       "        `Copy-on-Write\n",
       "        <https://pandas.pydata.org/docs/dev/user_guide/copy_on_write.html>`__\n",
       "        will be enabled by default, which means that all methods with a\n",
       "        `copy` keyword will use a lazy copy mechanism to defer the copy and\n",
       "        ignore the `copy` keyword. The `copy` keyword will be removed in a\n",
       "        future version of pandas.\n",
       "\n",
       "        You can already get the future behavior and improvements through\n",
       "        enabling copy on write ``pd.options.mode.copy_on_write = True``\n",
       "errors : {'raise', 'ignore'}, default 'raise'\n",
       "    Control raising of exceptions on invalid data for provided dtype.\n",
       "\n",
       "    - ``raise`` : allow exceptions to be raised\n",
       "    - ``ignore`` : suppress exceptions. On error return original object.\n",
       "\n",
       "Returns\n",
       "-------\n",
       "same type as caller\n",
       "\n",
       "See Also\n",
       "--------\n",
       "to_datetime : Convert argument to datetime.\n",
       "to_timedelta : Convert argument to timedelta.\n",
       "to_numeric : Convert argument to a numeric type.\n",
       "numpy.ndarray.astype : Cast a numpy array to a specified type.\n",
       "\n",
       "Notes\n",
       "-----\n",
       ".. versionchanged:: 2.0.0\n",
       "\n",
       "    Using ``astype`` to convert from timezone-naive dtype to\n",
       "    timezone-aware dtype will raise an exception.\n",
       "    Use :meth:`Series.dt.tz_localize` instead.\n",
       "\n",
       "Examples\n",
       "--------\n",
       "Create a DataFrame:\n",
       "\n",
       ">>> d = {'col1': [1, 2], 'col2': [3, 4]}\n",
       ">>> df = pd.DataFrame(data=d)\n",
       ">>> df.dtypes\n",
       "col1    int64\n",
       "col2    int64\n",
       "dtype: object\n",
       "\n",
       "Cast all columns to int32:\n",
       "\n",
       ">>> df.astype('int32').dtypes\n",
       "col1    int32\n",
       "col2    int32\n",
       "dtype: object\n",
       "\n",
       "Cast col1 to int32 using a dictionary:\n",
       "\n",
       ">>> df.astype({'col1': 'int32'}).dtypes\n",
       "col1    int32\n",
       "col2    int64\n",
       "dtype: object\n",
       "\n",
       "Create a series:\n",
       "\n",
       ">>> ser = pd.Series([1, 2], dtype='int32')\n",
       ">>> ser\n",
       "0    1\n",
       "1    2\n",
       "dtype: int32\n",
       ">>> ser.astype('int64')\n",
       "0    1\n",
       "1    2\n",
       "dtype: int64\n",
       "\n",
       "Convert to categorical type:\n",
       "\n",
       ">>> ser.astype('category')\n",
       "0    1\n",
       "1    2\n",
       "dtype: category\n",
       "Categories (2, int32): [1, 2]\n",
       "\n",
       "Convert to ordered categorical type with custom ordering:\n",
       "\n",
       ">>> from pandas.api.types import CategoricalDtype\n",
       ">>> cat_dtype = CategoricalDtype(\n",
       "...     categories=[2, 1], ordered=True)\n",
       ">>> ser.astype(cat_dtype)\n",
       "0    1\n",
       "1    2\n",
       "dtype: category\n",
       "Categories (2, int64): [2 < 1]\n",
       "\n",
       "Create a series of dates:\n",
       "\n",
       ">>> ser_date = pd.Series(pd.date_range('20200101', periods=3))\n",
       ">>> ser_date\n",
       "0   2020-01-01\n",
       "1   2020-01-02\n",
       "2   2020-01-03\n",
       "dtype: datetime64[ns]\n",
       "\u001b[1;31mFile:\u001b[0m      c:\\users\\alima\\anaconda3\\lib\\site-packages\\pandas\\core\\generic.py\n",
       "\u001b[1;31mType:\u001b[0m      method"
      ]
     },
     "metadata": {},
     "output_type": "display_data"
    }
   ],
   "source": [
    "df.astype?"
   ]
  },
  {
   "cell_type": "code",
   "execution_count": 9,
   "id": "9220a41b-09b7-45b2-bcdb-0bd35b614333",
   "metadata": {},
   "outputs": [
    {
     "data": {
      "text/html": [
       "<div>\n",
       "<style scoped>\n",
       "    .dataframe tbody tr th:only-of-type {\n",
       "        vertical-align: middle;\n",
       "    }\n",
       "\n",
       "    .dataframe tbody tr th {\n",
       "        vertical-align: top;\n",
       "    }\n",
       "\n",
       "    .dataframe thead th {\n",
       "        text-align: right;\n",
       "    }\n",
       "</style>\n",
       "<table border=\"1\" class=\"dataframe\">\n",
       "  <thead>\n",
       "    <tr style=\"text-align: right;\">\n",
       "      <th></th>\n",
       "      <th>col1</th>\n",
       "      <th>col2</th>\n",
       "    </tr>\n",
       "  </thead>\n",
       "  <tbody>\n",
       "    <tr>\n",
       "      <th>0</th>\n",
       "      <td>1</td>\n",
       "      <td>1.0</td>\n",
       "    </tr>\n",
       "    <tr>\n",
       "      <th>1</th>\n",
       "      <td>2</td>\n",
       "      <td>2.0</td>\n",
       "    </tr>\n",
       "    <tr>\n",
       "      <th>2</th>\n",
       "      <td>3</td>\n",
       "      <td>3.0</td>\n",
       "    </tr>\n",
       "    <tr>\n",
       "      <th>3</th>\n",
       "      <td>teks</td>\n",
       "      <td>4.0</td>\n",
       "    </tr>\n",
       "  </tbody>\n",
       "</table>\n",
       "</div>"
      ],
      "text/plain": [
       "   col1  col2\n",
       "0     1   1.0\n",
       "1     2   2.0\n",
       "2     3   3.0\n",
       "3  teks   4.0"
      ]
     },
     "execution_count": 9,
     "metadata": {},
     "output_type": "execute_result"
    }
   ],
   "source": [
    "df_x = df.astype({\"col2\": \"float32\"})\n",
    "df_x"
   ]
  },
  {
   "cell_type": "code",
   "execution_count": 11,
   "id": "d4158ac7-c335-4a02-a870-e35fe9a2977a",
   "metadata": {},
   "outputs": [
    {
     "data": {
      "text/plain": [
       "col1     object\n",
       "col2    float32\n",
       "dtype: object"
      ]
     },
     "execution_count": 11,
     "metadata": {},
     "output_type": "execute_result"
    }
   ],
   "source": [
    "df_x.dtypes"
   ]
  },
  {
   "cell_type": "markdown",
   "id": "58d8b08d-55ca-47e1-8591-366ca08fa5de",
   "metadata": {},
   "source": [
    "## Konversi tipe data object ke numerik pada keseluruhan kolom `DataFrame`dengan menggunakan fungsi `to_numeric()`"
   ]
  },
  {
   "cell_type": "code",
   "execution_count": 13,
   "id": "dbe50560-aed5-4ffe-b4fe-b9d05b80dcc0",
   "metadata": {},
   "outputs": [
    {
     "data": {
      "text/html": [
       "<div>\n",
       "<style scoped>\n",
       "    .dataframe tbody tr th:only-of-type {\n",
       "        vertical-align: middle;\n",
       "    }\n",
       "\n",
       "    .dataframe tbody tr th {\n",
       "        vertical-align: top;\n",
       "    }\n",
       "\n",
       "    .dataframe thead th {\n",
       "        text-align: right;\n",
       "    }\n",
       "</style>\n",
       "<table border=\"1\" class=\"dataframe\">\n",
       "  <thead>\n",
       "    <tr style=\"text-align: right;\">\n",
       "      <th></th>\n",
       "      <th>col1</th>\n",
       "      <th>col2</th>\n",
       "    </tr>\n",
       "  </thead>\n",
       "  <tbody>\n",
       "    <tr>\n",
       "      <th>0</th>\n",
       "      <td>1.0</td>\n",
       "      <td>1</td>\n",
       "    </tr>\n",
       "    <tr>\n",
       "      <th>1</th>\n",
       "      <td>2.0</td>\n",
       "      <td>2</td>\n",
       "    </tr>\n",
       "    <tr>\n",
       "      <th>2</th>\n",
       "      <td>3.0</td>\n",
       "      <td>3</td>\n",
       "    </tr>\n",
       "    <tr>\n",
       "      <th>3</th>\n",
       "      <td>NaN</td>\n",
       "      <td>4</td>\n",
       "    </tr>\n",
       "  </tbody>\n",
       "</table>\n",
       "</div>"
      ],
      "text/plain": [
       "   col1  col2\n",
       "0   1.0     1\n",
       "1   2.0     2\n",
       "2   3.0     3\n",
       "3   NaN     4"
      ]
     },
     "execution_count": 13,
     "metadata": {},
     "output_type": "execute_result"
    }
   ],
   "source": [
    "df.apply(pd.to_numeric, errors=\"coerce\")"
   ]
  }
 ],
 "metadata": {
  "kernelspec": {
   "display_name": "Python 3 (ipykernel)",
   "language": "python",
   "name": "python3"
  },
  "language_info": {
   "codemirror_mode": {
    "name": "ipython",
    "version": 3
   },
   "file_extension": ".py",
   "mimetype": "text/x-python",
   "name": "python",
   "nbconvert_exporter": "python",
   "pygments_lexer": "ipython3",
   "version": "3.12.7"
  }
 },
 "nbformat": 4,
 "nbformat_minor": 5
}
