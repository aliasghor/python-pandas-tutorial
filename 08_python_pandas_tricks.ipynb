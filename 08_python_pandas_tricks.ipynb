{
 "cells": [
  {
   "cell_type": "markdown",
   "id": "e46bc5bc-8c0a-4e6f-816c-3f3f63fbf7d1",
   "metadata": {},
   "source": [
    "# 8. Memeriksa kesamaan antar dua bolom kolom (`Series`) pada `DataFrame`"
   ]
  },
  {
   "cell_type": "code",
   "execution_count": 2,
   "id": "386b2fcc-40b1-42c1-9ba5-ce320eb04c47",
   "metadata": {},
   "outputs": [],
   "source": [
    "# Import all of the necessary pacakges\n",
    "import pandas as pd\n",
    "import numpy as np"
   ]
  },
  {
   "cell_type": "markdown",
   "id": "e8f71d39-00a9-4415-84d9-ee19807269d3",
   "metadata": {},
   "source": [
    "## Persiapan `DataFrame`"
   ]
  },
  {
   "cell_type": "code",
   "execution_count": 4,
   "id": "28af75d7-61db-4337-9920-d28bc6167a7c",
   "metadata": {},
   "outputs": [
    {
     "data": {
      "text/html": [
       "<div>\n",
       "<style scoped>\n",
       "    .dataframe tbody tr th:only-of-type {\n",
       "        vertical-align: middle;\n",
       "    }\n",
       "\n",
       "    .dataframe tbody tr th {\n",
       "        vertical-align: top;\n",
       "    }\n",
       "\n",
       "    .dataframe thead th {\n",
       "        text-align: right;\n",
       "    }\n",
       "</style>\n",
       "<table border=\"1\" class=\"dataframe\">\n",
       "  <thead>\n",
       "    <tr style=\"text-align: right;\">\n",
       "      <th></th>\n",
       "      <th>A</th>\n",
       "      <th>B</th>\n",
       "    </tr>\n",
       "  </thead>\n",
       "  <tbody>\n",
       "    <tr>\n",
       "      <th>0</th>\n",
       "      <td>15.0</td>\n",
       "      <td>15.0</td>\n",
       "    </tr>\n",
       "    <tr>\n",
       "      <th>1</th>\n",
       "      <td>15.0</td>\n",
       "      <td>15.0</td>\n",
       "    </tr>\n",
       "    <tr>\n",
       "      <th>2</th>\n",
       "      <td>18.0</td>\n",
       "      <td>18.0</td>\n",
       "    </tr>\n",
       "    <tr>\n",
       "      <th>3</th>\n",
       "      <td>NaN</td>\n",
       "      <td>NaN</td>\n",
       "    </tr>\n",
       "    <tr>\n",
       "      <th>4</th>\n",
       "      <td>12.0</td>\n",
       "      <td>12.0</td>\n",
       "    </tr>\n",
       "  </tbody>\n",
       "</table>\n",
       "</div>"
      ],
      "text/plain": [
       "      A     B\n",
       "0  15.0  15.0\n",
       "1  15.0  15.0\n",
       "2  18.0  18.0\n",
       "3   NaN   NaN\n",
       "4  12.0  12.0"
      ]
     },
     "execution_count": 4,
     "metadata": {},
     "output_type": "execute_result"
    }
   ],
   "source": [
    "data = {\n",
    "    \"A\": [15, 15, 18, np.nan, 12],\n",
    "    \"B\": [15, 15, 18, np.nan, 12]\n",
    "}\n",
    "\n",
    "df = pd.DataFrame(data)\n",
    "df"
   ]
  },
  {
   "cell_type": "markdown",
   "id": "4d1bf6da-21ee-4fa7-a00f-9e8879a78886",
   "metadata": {},
   "source": [
    "## Mengenal Pandas `Series`\n",
    "\n",
    "`Series` is a one-dimensional labled array holding data of any type. Every `DataFrame` is made from group of Series."
   ]
  },
  {
   "cell_type": "code",
   "execution_count": 6,
   "id": "dbf4f1a0-57c2-4819-82b7-efc0659983c3",
   "metadata": {},
   "outputs": [
    {
     "data": {
      "text/plain": [
       "0    15.0\n",
       "1    15.0\n",
       "2    18.0\n",
       "3     NaN\n",
       "4    12.0\n",
       "Name: A, dtype: float64"
      ]
     },
     "execution_count": 6,
     "metadata": {},
     "output_type": "execute_result"
    }
   ],
   "source": [
    "df[\"A\"]"
   ]
  },
  {
   "cell_type": "code",
   "execution_count": 7,
   "id": "5d7ebb04-49b3-4648-963b-7ca4fe2cd557",
   "metadata": {},
   "outputs": [
    {
     "data": {
      "text/plain": [
       "pandas.core.series.Series"
      ]
     },
     "execution_count": 7,
     "metadata": {},
     "output_type": "execute_result"
    }
   ],
   "source": [
    "type(df[\"A\"])"
   ]
  },
  {
   "cell_type": "code",
   "execution_count": 8,
   "id": "35854abf-5d72-4210-a1ec-27174f866cc9",
   "metadata": {},
   "outputs": [
    {
     "data": {
      "text/plain": [
       "pandas.core.frame.DataFrame"
      ]
     },
     "execution_count": 8,
     "metadata": {},
     "output_type": "execute_result"
    }
   ],
   "source": [
    "type(df)"
   ]
  },
  {
   "cell_type": "markdown",
   "id": "a7fd244e-05d4-468e-9019-0a8640c4a124",
   "metadata": {},
   "source": [
    "## Memeriksa kesamaan kolom dengan operator `==`"
   ]
  },
  {
   "cell_type": "code",
   "execution_count": 10,
   "id": "ae2b18e2-53d4-45ce-8809-4141b59d8fe4",
   "metadata": {},
   "outputs": [
    {
     "data": {
      "text/plain": [
       "0     True\n",
       "1     True\n",
       "2     True\n",
       "3    False\n",
       "4     True\n",
       "dtype: bool"
      ]
     },
     "execution_count": 10,
     "metadata": {},
     "output_type": "execute_result"
    }
   ],
   "source": [
    "df[\"A\"] == df[\"B\"]"
   ]
  },
  {
   "cell_type": "markdown",
   "id": "4029da69-38c2-4658-9f8f-a97beb212821",
   "metadata": {},
   "source": [
    "## Memeriksa kesamaan dengan method `.equals()`"
   ]
  },
  {
   "cell_type": "code",
   "execution_count": 12,
   "id": "95a9cb7b-06e8-436b-b6b8-3ecf9288fc44",
   "metadata": {},
   "outputs": [
    {
     "data": {
      "text/plain": [
       "True"
      ]
     },
     "execution_count": 12,
     "metadata": {},
     "output_type": "execute_result"
    }
   ],
   "source": [
    "df[\"A\"].equals(df[\"B\"])"
   ]
  },
  {
   "cell_type": "markdown",
   "id": "ed222613-50ed-427d-b26d-e7b03010c58d",
   "metadata": {},
   "source": [
    "## Memeriksa kesamaan antar dua `DataFrame`"
   ]
  },
  {
   "cell_type": "code",
   "execution_count": 14,
   "id": "82f08f1d-f627-4cc8-9d17-177f3012ee30",
   "metadata": {},
   "outputs": [
    {
     "data": {
      "text/plain": [
       "True"
      ]
     },
     "execution_count": 14,
     "metadata": {},
     "output_type": "execute_result"
    }
   ],
   "source": [
    "df1 = df.copy(deep=True)\n",
    "\n",
    "df.equals(df1)"
   ]
  }
 ],
 "metadata": {
  "kernelspec": {
   "display_name": "Python [conda env:base] *",
   "language": "python",
   "name": "conda-base-py"
  },
  "language_info": {
   "codemirror_mode": {
    "name": "ipython",
    "version": 3
   },
   "file_extension": ".py",
   "mimetype": "text/x-python",
   "name": "python",
   "nbconvert_exporter": "python",
   "pygments_lexer": "ipython3",
   "version": "3.12.7"
  }
 },
 "nbformat": 4,
 "nbformat_minor": 5
}
